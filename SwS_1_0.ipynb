{
  "nbformat": 4,
  "nbformat_minor": 0,
  "metadata": {
    "colab": {
      "name": "SwS_1.0.ipynb",
      "provenance": [],
      "authorship_tag": "ABX9TyO6r7vkRel4Hq3RuUiRDa2s",
      "include_colab_link": true
    },
    "kernelspec": {
      "name": "python3",
      "display_name": "Python 3"
    }
  },
  "cells": [
    {
      "cell_type": "markdown",
      "metadata": {
        "id": "view-in-github",
        "colab_type": "text"
      },
      "source": [
        "<a href=\"https://colab.research.google.com/github/VamBay/teaSilerS/blob/master/SwS_1_0.ipynb\" target=\"_parent\"><img src=\"https://colab.research.google.com/assets/colab-badge.svg\" alt=\"Open In Colab\"/></a>"
      ]
    },
    {
      "cell_type": "code",
      "metadata": {
        "id": "XQkUDujXDe0T",
        "colab_type": "code",
        "colab": {
          "base_uri": "https://localhost:8080/",
          "height": 87
        },
        "outputId": "5a02651e-62b6-420c-c05e-61519854a903"
      },
      "source": [
        "#  - SwS-level1\n",
        "\n",
        "code=input(\"Please enter your colors and numbers in a string like 'grby2341:\\n\")\n",
        "\n",
        "a=list(code)\n",
        "input_colors=a[:4]\n",
        "b=a[4:]\n",
        "\n",
        "input_no=[int(i) for i in b]\n",
        "output_colors=[None]*4\n",
        "\n",
        "indicies = [s-1 for s in input_no]\n",
        "print(indicies)\n",
        "\n",
        "for j in range(4):\n",
        "    output_colors[indicies[j]]=input_colors[j]\n",
        "print(output_colors)"
      ],
      "execution_count": null,
      "outputs": [
        {
          "output_type": "stream",
          "text": [
            "Please enter your colors and numbers in a string like 'grby2341:\n",
            "grby2341\n",
            "[1, 2, 3, 0]\n",
            "['y', 'g', 'r', 'b']\n"
          ],
          "name": "stdout"
        }
      ]
    }
  ]
}